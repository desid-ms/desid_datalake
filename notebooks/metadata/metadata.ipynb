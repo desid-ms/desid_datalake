{
 "cells": [
  {
   "cell_type": "code",
   "execution_count": 1,
   "metadata": {},
   "outputs": [],
   "source": [
    "from datetime import datetime\n",
    "import pandas as pd\n",
    "import duckdb\n",
    "import yaml"
   ]
  },
  {
   "cell_type": "code",
   "execution_count": 3,
   "metadata": {},
   "outputs": [],
   "source": [
    "with open('metadata.yaml', 'r') as file:\n",
    "            metadata = yaml.safe_load(file)"
   ]
  },
  {
   "cell_type": "code",
   "execution_count": 13,
   "metadata": {},
   "outputs": [
    {
     "data": {
      "text/plain": [
       "{'siops.lancamentos': {'title': 'siops.lancamentos',\n",
       "  'description': 'Tabela de lançamentos do SIOPS',\n",
       "  'accrualPeriodicity': 'Bimestral',\n",
       "  'location': {'url': 'data/br_ms__siops/lancamentos',\n",
       "   'partitions': ['ano', 'bimestre'],\n",
       "   'format': 'parquet'}},\n",
       " 'siops.contas': {'title': 'siops.contas',\n",
       "  'description': 'Tabela de contas do SIOPS',\n",
       "  'accrualPeriodicity': 'Anual',\n",
       "  'location': {'url': 'data/br_ms__siops/contas', 'format': 'parquet'}}}"
      ]
     },
     "execution_count": 13,
     "metadata": {},
     "output_type": "execute_result"
    }
   ],
   "source": [
    "metadata['resources']"
   ]
  },
  {
   "cell_type": "code",
   "execution_count": null,
   "metadata": {},
   "outputs": [
    {
     "name": "stdout",
     "output_type": "stream",
     "text": [
      "Processing siops.lancamentos\n",
      "Processing siops.contas\n"
     ]
    }
   ],
   "source": [
    "for key, value in metadata['resources'].items():\n",
    "    schema, table = key.split('.')\n",
    "    query = f\"\"\"\n",
    "    SELECT \n",
    "        column_name as name,\n",
    "        data_type as type,\n",
    "        comment as description,\n",
    "        regexp_extract(comment, 'Fonte: ([^)]+)', 1) as source\n",
    "  from duckdb_columns where table_name = '{table}' and table_schema = '{schema}'\n",
    "  \"\"\"\n",
    "    df = duckdb.sql(query)\n",
    "    print(df)   \n",
    "    "
   ]
  }
 ],
 "metadata": {
  "kernelspec": {
   "display_name": "desid-playground-ahKw7HtI-py3.11",
   "language": "python",
   "name": "python3"
  },
  "language_info": {
   "codemirror_mode": {
    "name": "ipython",
    "version": 3
   },
   "file_extension": ".py",
   "mimetype": "text/x-python",
   "name": "python",
   "nbconvert_exporter": "python",
   "pygments_lexer": "ipython3",
   "version": "3.11.6"
  }
 },
 "nbformat": 4,
 "nbformat_minor": 2
}
