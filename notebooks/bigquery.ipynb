{
 "cells": [
  {
   "cell_type": "code",
   "execution_count": 21,
   "metadata": {},
   "outputs": [],
   "source": [
    "from google.cloud import bigquery\n",
    "import pandas as pd\n",
    "from fastduck import database"
   ]
  },
  {
   "cell_type": "code",
   "execution_count": null,
   "metadata": {},
   "outputs": [],
   "source": [
    "client = bigquery.Client()\n",
    "query = \"\"\"\n",
    "SELECT\n",
    "  DATE(CAST(ANO AS INT64), CAST(MES AS INT64), 1) AS COMPETENCIA,\n",
    "  CNES,\n",
    "  NAT_JUR,\n",
    "  TP_PREST,\n",
    "  TP_UNID,\n",
    "  TPGESTAO,\n",
    "  CODUFMUN,\n",
    "  CPF_CNPJ,\n",
    "  CNPJ_MAN\n",
    "FROM `basedosdados-staging.br_ms_cnes_staging.estabelecimento`\n",
    "LIMIT 1000\n",
    "\"\"\"\n",
    "results = client.query(query)"
   ]
  },
  {
   "cell_type": "code",
   "execution_count": 20,
   "metadata": {},
   "outputs": [
    {
     "name": "stdout",
     "output_type": "stream",
     "text": [
      "COMPETENCIA    datetime64[ns]\n",
      "CNES           string[python]\n",
      "NAT_JUR        string[python]\n",
      "TP_PREST       string[python]\n",
      "TP_UNID        string[python]\n",
      "TPGESTAO       string[python]\n",
      "CODUFMUN       string[python]\n",
      "CPF_CNPJ       string[python]\n",
      "CNPJ_MAN       string[python]\n",
      "dtype: object\n"
     ]
    }
   ],
   "source": [
    "\n",
    "dt = {\n",
    "    'COMPETENCIA': 'datetime64[ns]',\n",
    "    'CNES': 'string',\n",
    "    'NAT_JUR': 'string',\n",
    "    'TP_PREST': 'string',\n",
    "    'TP_UNID': 'string',\n",
    "    'TPGESTAO': 'string',\n",
    "    'CODUFMUN': 'string',\n",
    "    'CPF_CNPJ': 'string',\n",
    "    'CNPJ_MAN': 'string'\n",
    "}\n",
    "\n",
    "df = results.to_dataframe().astype(dt)\n",
    "print(df.dtypes)\n",
    "\n",
    "\n"
   ]
  },
  {
   "cell_type": "code",
   "execution_count": 25,
   "metadata": {},
   "outputs": [
    {
     "name": "stderr",
     "output_type": "stream",
     "text": [
      "Installing and loading extensions: 0it [00:00, ?it/s]\n"
     ]
    },
    {
     "data": {
      "text/plain": [
       "DuckDBPyConnection (memory_main)"
      ]
     },
     "execution_count": 25,
     "metadata": {},
     "output_type": "execute_result"
    }
   ],
   "source": [
    "db = database(':memory:')\n",
    "db"
   ]
  },
  {
   "cell_type": "code",
   "execution_count": 54,
   "metadata": {},
   "outputs": [
    {
     "data": {
      "text/html": [
       "<table border=\"1\" class=\"dataframe\">\n",
       "  <thead>\n",
       "    <tr style=\"text-align: right;\">\n",
       "      <th>COMPETENCIA</th>\n",
       "      <th>CNES</th>\n",
       "      <th>NAT_JUR</th>\n",
       "      <th>TP_PREST</th>\n",
       "      <th>TP_UNID</th>\n",
       "      <th>TPGESTAO</th>\n",
       "      <th>CODUFMUN</th>\n",
       "      <th>CPF_CNPJ</th>\n",
       "      <th>CNPJ_MAN</th>\n",
       "    </tr>\n",
       "  </thead>\n",
       "  <tbody>\n",
       "    <tr>\n",
       "      <td>2005-10-01 00:00:00</td>\n",
       "      <td>2001071</td>\n",
       "      <td></td>\n",
       "      <td>NaN</td>\n",
       "      <td>2</td>\n",
       "      <td>D</td>\n",
       "      <td>120001</td>\n",
       "      <td>00000000000000</td>\n",
       "      <td>84306737000127</td>\n",
       "    </tr>\n",
       "    <tr>\n",
       "      <td>2005-10-01 00:00:00</td>\n",
       "      <td>2001098</td>\n",
       "      <td></td>\n",
       "      <td>NaN</td>\n",
       "      <td>2</td>\n",
       "      <td>E</td>\n",
       "      <td>120001</td>\n",
       "      <td>00000000000000</td>\n",
       "      <td>04034526000143</td>\n",
       "    </tr>\n",
       "    <tr>\n",
       "      <td>2005-10-01 00:00:00</td>\n",
       "      <td>2001780</td>\n",
       "      <td></td>\n",
       "      <td>NaN</td>\n",
       "      <td>2</td>\n",
       "      <td>M</td>\n",
       "      <td>120001</td>\n",
       "      <td>00000000000000</td>\n",
       "      <td>04034526000143</td>\n",
       "    </tr>\n",
       "    <tr>\n",
       "      <td>...</td>\n",
       "      <td>...</td>\n",
       "      <td>...</td>\n",
       "      <td>...</td>\n",
       "      <td>...</td>\n",
       "      <td>...</td>\n",
       "      <td>...</td>\n",
       "      <td>...</td>\n",
       "      <td>...</td>\n",
       "    </tr>\n",
       "    <tr>\n",
       "      <td>2005-10-01 00:00:00</td>\n",
       "      <td>2006677</td>\n",
       "      <td></td>\n",
       "      <td>NaN</td>\n",
       "      <td>39</td>\n",
       "      <td>M</td>\n",
       "      <td>270430</td>\n",
       "      <td>02172256000101</td>\n",
       "      <td>00000000000000</td>\n",
       "    </tr>\n",
       "    <tr>\n",
       "      <td>2005-10-01 00:00:00</td>\n",
       "      <td>2006685</td>\n",
       "      <td></td>\n",
       "      <td>NaN</td>\n",
       "      <td>39</td>\n",
       "      <td>M</td>\n",
       "      <td>270430</td>\n",
       "      <td>24329039000115</td>\n",
       "      <td>00000000000000</td>\n",
       "    </tr>\n",
       "  </tbody>\n",
       "</table><p>1000 rows x  9 cols &nbsp;&nbsp;&nbsp;&nbsp;&nbsp;DuckDBPyRelation   </p>"
      ],
      "text/markdown": [
       "#### DuckDBPyRelation   \n",
       "\n",
       " | COMPETENCIA         | CNES    | NAT_JUR   | TP_PREST   | TP_UNID   | TPGESTAO   | CODUFMUN   | CPF_CNPJ       | CNPJ_MAN       |\n",
       "|:--------------------|:--------|:----------|:-----------|:----------|:-----------|:-----------|:---------------|:---------------|\n",
       "| 2005-10-01 00:00:00 | 2001071 |           | nan        | 2         | D          | 120001     | 00000000000000 | 84306737000127 |\n",
       "| 2005-10-01 00:00:00 | 2001098 |           | nan        | 2         | E          | 120001     | 00000000000000 | 04034526000143 |\n",
       "| 2005-10-01 00:00:00 | 2001780 |           | nan        | 2         | M          | 120001     | 00000000000000 | 04034526000143 |\n",
       "| ...                 | ...     | ...       | ...        | ...       | ...        | ...        | ...            | ...            |\n",
       "| 2005-10-01 00:00:00 | 2006677 |           | nan        | 39        | M          | 270430     | 02172256000101 | 00000000000000 |\n",
       "| 2005-10-01 00:00:00 | 2006685 |           | nan        | 39        | M          | 270430     | 24329039000115 | 00000000000000 |\n",
       "\n",
       " 1000 rows  x  9 cols "
      ],
      "text/plain": [
       "DuckDBPyRelation   \n"
      ]
     },
     "execution_count": 54,
     "metadata": {},
     "output_type": "execute_result"
    }
   ],
   "source": [
    "tb = db.sql(\" select CAST(COMPETENCIA AS DATE) AS COMPETENCIA,CNES,NAT_JUR,TP_PREST,TP_UNID,TPGESTAO,CODUFMUN,CPF_CNPJ,CNPJ_MAN from df\")\n",
    "tb"
   ]
  },
  {
   "cell_type": "code",
   "execution_count": 8,
   "metadata": {},
   "outputs": [
    {
     "data": {
      "text/html": [
       "<div>\n",
       "<style scoped>\n",
       "    .dataframe tbody tr th:only-of-type {\n",
       "        vertical-align: middle;\n",
       "    }\n",
       "\n",
       "    .dataframe tbody tr th {\n",
       "        vertical-align: top;\n",
       "    }\n",
       "\n",
       "    .dataframe thead th {\n",
       "        text-align: right;\n",
       "    }\n",
       "</style>\n",
       "<table border=\"1\" class=\"dataframe\">\n",
       "  <thead>\n",
       "    <tr style=\"text-align: right;\">\n",
       "      <th></th>\n",
       "      <th>COMPETENCIA</th>\n",
       "      <th>CNES</th>\n",
       "      <th>NAT_JUR</th>\n",
       "      <th>TP_PREST</th>\n",
       "      <th>TP_UNID</th>\n",
       "      <th>TPGESTAO</th>\n",
       "      <th>CODUFMUN</th>\n",
       "      <th>CPF_CNPJ</th>\n",
       "      <th>CNPJ_MAN</th>\n",
       "    </tr>\n",
       "  </thead>\n",
       "  <tbody>\n",
       "    <tr>\n",
       "      <th>count</th>\n",
       "      <td>1000</td>\n",
       "      <td>1000</td>\n",
       "      <td>1000</td>\n",
       "      <td>0</td>\n",
       "      <td>1000</td>\n",
       "      <td>1000</td>\n",
       "      <td>1000</td>\n",
       "      <td>1000</td>\n",
       "      <td>1000</td>\n",
       "    </tr>\n",
       "    <tr>\n",
       "      <th>unique</th>\n",
       "      <td>1</td>\n",
       "      <td>1000</td>\n",
       "      <td>1</td>\n",
       "      <td>0</td>\n",
       "      <td>19</td>\n",
       "      <td>3</td>\n",
       "      <td>70</td>\n",
       "      <td>228</td>\n",
       "      <td>77</td>\n",
       "    </tr>\n",
       "    <tr>\n",
       "      <th>top</th>\n",
       "      <td>2005-10-01</td>\n",
       "      <td>2001071</td>\n",
       "      <td></td>\n",
       "      <td>NaN</td>\n",
       "      <td>2</td>\n",
       "      <td>M</td>\n",
       "      <td>120040</td>\n",
       "      <td>00000000000000</td>\n",
       "      <td>00000000000000</td>\n",
       "    </tr>\n",
       "    <tr>\n",
       "      <th>freq</th>\n",
       "      <td>1000</td>\n",
       "      <td>1</td>\n",
       "      <td>1000</td>\n",
       "      <td>NaN</td>\n",
       "      <td>473</td>\n",
       "      <td>633</td>\n",
       "      <td>188</td>\n",
       "      <td>773</td>\n",
       "      <td>199</td>\n",
       "    </tr>\n",
       "  </tbody>\n",
       "</table>\n",
       "</div>"
      ],
      "text/plain": [
       "       COMPETENCIA     CNES NAT_JUR TP_PREST TP_UNID TPGESTAO CODUFMUN  \\\n",
       "count         1000     1000    1000        0    1000     1000     1000   \n",
       "unique           1     1000       1        0      19        3       70   \n",
       "top     2005-10-01  2001071              NaN       2        M   120040   \n",
       "freq          1000        1    1000      NaN     473      633      188   \n",
       "\n",
       "              CPF_CNPJ        CNPJ_MAN  \n",
       "count             1000            1000  \n",
       "unique             228              77  \n",
       "top     00000000000000  00000000000000  \n",
       "freq               773             199  "
      ]
     },
     "execution_count": 8,
     "metadata": {},
     "output_type": "execute_result"
    }
   ],
   "source": [
    "df.describe()"
   ]
  },
  {
   "cell_type": "code",
   "execution_count": 58,
   "metadata": {},
   "outputs": [],
   "source": [
    "df['COMPETENCIA'] = pd.to_datetime(df['COMPETENCIA']).dt.date"
   ]
  },
  {
   "cell_type": "code",
   "execution_count": 59,
   "metadata": {},
   "outputs": [
    {
     "data": {
      "text/plain": [
       "COMPETENCIA            object\n",
       "CNES           string[python]\n",
       "NAT_JUR        string[python]\n",
       "TP_PREST       string[python]\n",
       "TP_UNID        string[python]\n",
       "TPGESTAO       string[python]\n",
       "CODUFMUN       string[python]\n",
       "CPF_CNPJ       string[python]\n",
       "CNPJ_MAN       string[python]\n",
       "dtype: object"
      ]
     },
     "execution_count": 59,
     "metadata": {},
     "output_type": "execute_result"
    }
   ],
   "source": [
    "df.dtypes"
   ]
  },
  {
   "cell_type": "code",
   "execution_count": 10,
   "metadata": {},
   "outputs": [
    {
     "data": {
      "text/plain": [
       "COMPETENCIA    dbdate\n",
       "CNES           object\n",
       "NAT_JUR        object\n",
       "TP_PREST       object\n",
       "TP_UNID        object\n",
       "TPGESTAO       object\n",
       "CODUFMUN       object\n",
       "CPF_CNPJ       object\n",
       "CNPJ_MAN       object\n",
       "dtype: object"
      ]
     },
     "execution_count": 10,
     "metadata": {},
     "output_type": "execute_result"
    }
   ],
   "source": [
    "df.dtypes"
   ]
  },
  {
   "cell_type": "code",
   "execution_count": null,
   "metadata": {},
   "outputs": [],
   "source": []
  },
  {
   "cell_type": "code",
   "execution_count": null,
   "metadata": {},
   "outputs": [],
   "source": []
  },
  {
   "cell_type": "code",
   "execution_count": null,
   "metadata": {},
   "outputs": [],
   "source": []
  }
 ],
 "metadata": {
  "kernelspec": {
   "display_name": "Python 3",
   "language": "python",
   "name": "python3"
  },
  "language_info": {
   "codemirror_mode": {
    "name": "ipython",
    "version": 3
   },
   "file_extension": ".py",
   "mimetype": "text/x-python",
   "name": "python",
   "nbconvert_exporter": "python",
   "pygments_lexer": "ipython3",
   "version": "3.12.4"
  }
 },
 "nbformat": 4,
 "nbformat_minor": 2
}
