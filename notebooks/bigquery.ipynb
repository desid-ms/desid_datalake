{
 "cells": [
  {
   "cell_type": "code",
   "execution_count": 1,
   "metadata": {},
   "outputs": [
    {
     "data": {
      "text/plain": [
       "<google.cloud.bigquery.client.Client at 0x16af138f0>"
      ]
     },
     "execution_count": 1,
     "metadata": {},
     "output_type": "execute_result"
    }
   ],
   "source": [
    "from google.cloud import bigquery\n",
    "\n",
    "client = bigquery.Client()\n",
    "client\n"
   ]
  },
  {
   "cell_type": "code",
   "execution_count": 2,
   "metadata": {},
   "outputs": [
    {
     "data": {
      "text/plain": [
       "QueryJob<project=desid-playground, location=US, id=10242363-cf00-4115-b324-7e0845d30f5f>"
      ]
     },
     "execution_count": 2,
     "metadata": {},
     "output_type": "execute_result"
    }
   ],
   "source": [
    "query = \"\"\"\n",
    "SELECT\n",
    "  DATE(CAST(ANO AS INT64), CAST(MES AS INT64), 1) AS COMPETENCIA,\n",
    "  CNES,\n",
    "  NAT_JUR,\n",
    "  TP_PREST,\n",
    "  TP_UNID,\n",
    "  TPGESTAO,\n",
    "  CODUFMUN,\n",
    "  CPF_CNPJ,\n",
    "  CNPJ_MAN\n",
    "FROM `basedosdados-staging.br_ms_cnes_staging.estabelecimento`\n",
    "LIMIT 10\n",
    "\"\"\"\n",
    "results = client.query(query)\n",
    "\n",
    "results\n"
   ]
  },
  {
   "cell_type": "code",
   "execution_count": 3,
   "metadata": {},
   "outputs": [],
   "source": [
    "import pandas as pd"
   ]
  },
  {
   "cell_type": "code",
   "execution_count": 4,
   "metadata": {},
   "outputs": [
    {
     "data": {
      "text/html": [
       "<div>\n",
       "<style scoped>\n",
       "    .dataframe tbody tr th:only-of-type {\n",
       "        vertical-align: middle;\n",
       "    }\n",
       "\n",
       "    .dataframe tbody tr th {\n",
       "        vertical-align: top;\n",
       "    }\n",
       "\n",
       "    .dataframe thead th {\n",
       "        text-align: right;\n",
       "    }\n",
       "</style>\n",
       "<table border=\"1\" class=\"dataframe\">\n",
       "  <thead>\n",
       "    <tr style=\"text-align: right;\">\n",
       "      <th></th>\n",
       "      <th>COMPETENCIA</th>\n",
       "      <th>CNES</th>\n",
       "      <th>NAT_JUR</th>\n",
       "      <th>TP_PREST</th>\n",
       "      <th>TP_UNID</th>\n",
       "      <th>TPGESTAO</th>\n",
       "      <th>CODUFMUN</th>\n",
       "      <th>CPF_CNPJ</th>\n",
       "      <th>CNPJ_MAN</th>\n",
       "    </tr>\n",
       "  </thead>\n",
       "  <tbody>\n",
       "    <tr>\n",
       "      <th>0</th>\n",
       "      <td>2005-10-01</td>\n",
       "      <td>2001071</td>\n",
       "      <td></td>\n",
       "      <td>None</td>\n",
       "      <td>2</td>\n",
       "      <td>D</td>\n",
       "      <td>120001</td>\n",
       "      <td>00000000000000</td>\n",
       "      <td>84306737000127</td>\n",
       "    </tr>\n",
       "    <tr>\n",
       "      <th>1</th>\n",
       "      <td>2005-10-01</td>\n",
       "      <td>2001098</td>\n",
       "      <td></td>\n",
       "      <td>None</td>\n",
       "      <td>2</td>\n",
       "      <td>E</td>\n",
       "      <td>120001</td>\n",
       "      <td>00000000000000</td>\n",
       "      <td>04034526000143</td>\n",
       "    </tr>\n",
       "    <tr>\n",
       "      <th>2</th>\n",
       "      <td>2005-10-01</td>\n",
       "      <td>2001780</td>\n",
       "      <td></td>\n",
       "      <td>None</td>\n",
       "      <td>2</td>\n",
       "      <td>M</td>\n",
       "      <td>120001</td>\n",
       "      <td>00000000000000</td>\n",
       "      <td>04034526000143</td>\n",
       "    </tr>\n",
       "    <tr>\n",
       "      <th>3</th>\n",
       "      <td>2005-10-01</td>\n",
       "      <td>2001950</td>\n",
       "      <td></td>\n",
       "      <td>None</td>\n",
       "      <td>1</td>\n",
       "      <td>M</td>\n",
       "      <td>120001</td>\n",
       "      <td>00000000000000</td>\n",
       "      <td>84306737000127</td>\n",
       "    </tr>\n",
       "    <tr>\n",
       "      <th>4</th>\n",
       "      <td>2005-10-01</td>\n",
       "      <td>2002043</td>\n",
       "      <td></td>\n",
       "      <td>None</td>\n",
       "      <td>1</td>\n",
       "      <td>M</td>\n",
       "      <td>120001</td>\n",
       "      <td>00000000000000</td>\n",
       "      <td>84306737000127</td>\n",
       "    </tr>\n",
       "    <tr>\n",
       "      <th>5</th>\n",
       "      <td>2005-10-01</td>\n",
       "      <td>2002159</td>\n",
       "      <td></td>\n",
       "      <td>None</td>\n",
       "      <td>2</td>\n",
       "      <td>M</td>\n",
       "      <td>120001</td>\n",
       "      <td>00000000000000</td>\n",
       "      <td>84306737000127</td>\n",
       "    </tr>\n",
       "    <tr>\n",
       "      <th>6</th>\n",
       "      <td>2005-10-01</td>\n",
       "      <td>2002841</td>\n",
       "      <td></td>\n",
       "      <td>None</td>\n",
       "      <td>2</td>\n",
       "      <td>E</td>\n",
       "      <td>120001</td>\n",
       "      <td>00000000000000</td>\n",
       "      <td>04034526000143</td>\n",
       "    </tr>\n",
       "    <tr>\n",
       "      <th>7</th>\n",
       "      <td>2005-10-01</td>\n",
       "      <td>3006166</td>\n",
       "      <td></td>\n",
       "      <td>None</td>\n",
       "      <td>2</td>\n",
       "      <td>D</td>\n",
       "      <td>120001</td>\n",
       "      <td>00000000000000</td>\n",
       "      <td>84306737000127</td>\n",
       "    </tr>\n",
       "    <tr>\n",
       "      <th>8</th>\n",
       "      <td>2005-10-01</td>\n",
       "      <td>3382745</td>\n",
       "      <td></td>\n",
       "      <td>None</td>\n",
       "      <td>2</td>\n",
       "      <td>M</td>\n",
       "      <td>120001</td>\n",
       "      <td>00000000000000</td>\n",
       "      <td>84306737000127</td>\n",
       "    </tr>\n",
       "    <tr>\n",
       "      <th>9</th>\n",
       "      <td>2005-10-01</td>\n",
       "      <td>3393984</td>\n",
       "      <td></td>\n",
       "      <td>None</td>\n",
       "      <td>2</td>\n",
       "      <td>D</td>\n",
       "      <td>120001</td>\n",
       "      <td>00000000000000</td>\n",
       "      <td>84306737000127</td>\n",
       "    </tr>\n",
       "  </tbody>\n",
       "</table>\n",
       "</div>"
      ],
      "text/plain": [
       "  COMPETENCIA     CNES NAT_JUR TP_PREST TP_UNID TPGESTAO CODUFMUN  \\\n",
       "0  2005-10-01  2001071             None       2        D   120001   \n",
       "1  2005-10-01  2001098             None       2        E   120001   \n",
       "2  2005-10-01  2001780             None       2        M   120001   \n",
       "3  2005-10-01  2001950             None       1        M   120001   \n",
       "4  2005-10-01  2002043             None       1        M   120001   \n",
       "5  2005-10-01  2002159             None       2        M   120001   \n",
       "6  2005-10-01  2002841             None       2        E   120001   \n",
       "7  2005-10-01  3006166             None       2        D   120001   \n",
       "8  2005-10-01  3382745             None       2        M   120001   \n",
       "9  2005-10-01  3393984             None       2        D   120001   \n",
       "\n",
       "         CPF_CNPJ        CNPJ_MAN  \n",
       "0  00000000000000  84306737000127  \n",
       "1  00000000000000  04034526000143  \n",
       "2  00000000000000  04034526000143  \n",
       "3  00000000000000  84306737000127  \n",
       "4  00000000000000  84306737000127  \n",
       "5  00000000000000  84306737000127  \n",
       "6  00000000000000  04034526000143  \n",
       "7  00000000000000  84306737000127  \n",
       "8  00000000000000  84306737000127  \n",
       "9  00000000000000  84306737000127  "
      ]
     },
     "execution_count": 4,
     "metadata": {},
     "output_type": "execute_result"
    }
   ],
   "source": [
    "df = results.to_dataframe()\n",
    "df"
   ]
  },
  {
   "cell_type": "code",
   "execution_count": null,
   "metadata": {},
   "outputs": [],
   "source": []
  },
  {
   "cell_type": "code",
   "execution_count": null,
   "metadata": {},
   "outputs": [],
   "source": []
  },
  {
   "cell_type": "code",
   "execution_count": null,
   "metadata": {},
   "outputs": [],
   "source": []
  },
  {
   "cell_type": "code",
   "execution_count": null,
   "metadata": {},
   "outputs": [],
   "source": []
  },
  {
   "cell_type": "code",
   "execution_count": null,
   "metadata": {},
   "outputs": [],
   "source": []
  }
 ],
 "metadata": {
  "kernelspec": {
   "display_name": "Python 3",
   "language": "python",
   "name": "python3"
  },
  "language_info": {
   "codemirror_mode": {
    "name": "ipython",
    "version": 3
   },
   "file_extension": ".py",
   "mimetype": "text/x-python",
   "name": "python",
   "nbconvert_exporter": "python",
   "pygments_lexer": "ipython3",
   "version": "3.12.4"
  }
 },
 "nbformat": 4,
 "nbformat_minor": 2
}
