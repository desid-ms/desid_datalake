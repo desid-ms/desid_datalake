{
 "cells": [
  {
   "cell_type": "code",
   "execution_count": 21,
   "metadata": {},
   "outputs": [],
   "source": [
    "from google.cloud import bigquery\n",
    "import pandas as pd\n",
    "from fastduck import database"
   ]
  },
  {
   "cell_type": "code",
   "execution_count": null,
   "metadata": {},
   "outputs": [],
   "source": [
    "client = bigquery.Client()\n",
    "query = \"\"\"\n",
    "SELECT\n",
    "  DATE(CAST(ANO AS INT64), CAST(MES AS INT64), 1) AS COMPETENCIA,\n",
    "  CNES,\n",
    "  NAT_JUR,\n",
    "  TP_PREST,\n",
    "  TP_UNID,\n",
    "  TPGESTAO,\n",
    "  CODUFMUN,\n",
    "  CPF_CNPJ,\n",
    "  CNPJ_MAN\n",
    "FROM `basedosdados-staging.br_ms_cnes_staging.estabelecimento`\n",
    "LIMIT 1000\n",
    "\"\"\"\n",
    "results = client.query(query)"
   ]
  },
  {
   "cell_type": "code",
   "execution_count": null,
   "metadata": {},
   "outputs": [],
   "source": [
    "\n",
    "dt = {\n",
    "    'COMPETENCIA': 'datetime64[ns]',\n",
    "    'CNES': 'string',\n",
    "    'NAT_JUR': 'string',\n",
    "    'TP_PREST': 'string',\n",
    "    'TP_UNID': 'string',\n",
    "    'TPGESTAO': 'string',\n",
    "    'CODUFMUN': 'string',\n",
    "    'CPF_CNPJ': 'string',\n",
    "    'CNPJ_MAN': 'string'\n",
    "}\n",
    "\n",
    "df = results.to_dataframe().astype(dt)\n",
    "print(df.dtypes)\n",
    "\n",
    "\n"
   ]
  },
  {
   "cell_type": "code",
   "execution_count": null,
   "metadata": {},
   "outputs": [],
   "source": [
    "db = database(':memory:')\n",
    "db"
   ]
  },
  {
   "cell_type": "code",
   "execution_count": null,
   "metadata": {},
   "outputs": [],
   "source": [
    "tb = db.sql(\" select CAST(COMPETENCIA AS DATE) AS COMPETENCIA,CNES,NAT_JUR,TP_PREST,TP_UNID,TPGESTAO,CODUFMUN,CPF_CNPJ,CNPJ_MAN from df\")\n",
    "tb"
   ]
  },
  {
   "cell_type": "code",
   "execution_count": null,
   "metadata": {},
   "outputs": [],
   "source": [
    "df.describe()"
   ]
  },
  {
   "cell_type": "code",
   "execution_count": null,
   "metadata": {},
   "outputs": [],
   "source": [
    "df['COMPETENCIA'] = pd.to_datetime(df['COMPETENCIA']).dt.date"
   ]
  },
  {
   "cell_type": "code",
   "execution_count": null,
   "metadata": {},
   "outputs": [],
   "source": [
    "df.dtypes"
   ]
  },
  {
   "cell_type": "code",
   "execution_count": null,
   "metadata": {},
   "outputs": [],
   "source": [
    "df.dtypes"
   ]
  },
  {
   "cell_type": "code",
   "execution_count": null,
   "metadata": {},
   "outputs": [],
   "source": []
  },
  {
   "cell_type": "code",
   "execution_count": null,
   "metadata": {},
   "outputs": [],
   "source": []
  },
  {
   "cell_type": "code",
   "execution_count": null,
   "metadata": {},
   "outputs": [],
   "source": []
  }
 ],
 "metadata": {
  "kernelspec": {
   "display_name": "Python 3",
   "language": "python",
   "name": "python3"
  },
  "language_info": {
   "codemirror_mode": {
    "name": "ipython",
    "version": 3
   },
   "file_extension": ".py",
   "mimetype": "text/x-python",
   "name": "python",
   "nbconvert_exporter": "python",
   "pygments_lexer": "ipython3",
   "version": "3.12.4"
  }
 },
 "nbformat": 4,
 "nbformat_minor": 2
}
