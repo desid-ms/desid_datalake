{
 "cells": [
  {
   "cell_type": "markdown",
   "metadata": {},
   "source": [
    "# SIOPS 2022\n",
    "> Neste notebook acessamos o catálogo de dados (datawarehouse) que cria o dataset do SIOPS 2022 e mostramos como ele é feito desde o acesso ao Banco de Dados da Aplicação SIOPS até a geração de arquivos Parquet com o dataset.\n",
    ">\n",
    "> Aproveitamos também para dar análises possíveis com esses arquivos usando Pandas."
   ]
  },
  {
   "cell_type": "code",
   "execution_count": 1,
   "metadata": {},
   "outputs": [],
   "source": [
    "# import json\n",
    "import duckdb\n",
    "from fastduck import database\n",
    "import ipywidgets\n",
    "# from fastprogress.fastprogress import master_bar, progress_bar\n",
    "import pandas as pd\n",
    "# import requests\n",
    "# import os"
   ]
  },
  {
   "cell_type": "markdown",
   "metadata": {},
   "source": [
    "Acessando o datawarehouse na pasta /data"
   ]
  },
  {
   "cell_type": "code",
   "execution_count": null,
   "metadata": {},
   "outputs": [],
   "source": [
    "db = duckdb.connect('../data/catalog.db') "
   ]
  },
  {
   "cell_type": "code",
   "execution_count": null,
   "metadata": {},
   "outputs": [],
   "source": [
    "tables = (db.tables).df()\n",
    "tables[tables['schema'].isin(['siops'])]"
   ]
  },
  {
   "cell_type": "markdown",
   "metadata": {},
   "source": [
    "## Construção"
   ]
  },
  {
   "cell_type": "markdown",
   "metadata": {},
   "source": [
    "### Tabelas da Aplicação SIOPS Usadas"
   ]
  },
  {
   "cell_type": "code",
   "execution_count": null,
   "metadata": {},
   "outputs": [],
   "source": [
    "db.sql(\"select distinct table_name from duckdb_columns where schema_name = 'raw' and table_name like '%siops%'\").df()"
   ]
  },
  {
   "cell_type": "markdown",
   "metadata": {},
   "source": [
    "### TB_VL_VALORES"
   ]
  },
  {
   "cell_type": "code",
   "execution_count": null,
   "metadata": {},
   "outputs": [],
   "source": [
    "db.sql(\"\"\"SELECT COUNT(*) FROM RAW.SIOPS__TB_VL_VALORES\"\"\")"
   ]
  },
  {
   "cell_type": "code",
   "execution_count": null,
   "metadata": {},
   "outputs": [],
   "source": [
    "db.sql(\"\"\"SELECT COUNT(*) FROM RAW.SIOPSUF__TB_VL_VALORES\"\"\")"
   ]
  },
  {
   "cell_type": "code",
   "execution_count": null,
   "metadata": {},
   "outputs": [],
   "source": [
    "21_879_872 + 173_590"
   ]
  },
  {
   "cell_type": "markdown",
   "metadata": {},
   "source": [
    "### Unindo os dois bancos"
   ]
  },
  {
   "cell_type": "code",
   "execution_count": null,
   "metadata": {},
   "outputs": [],
   "source": [
    "todos_valores = db.sql(\"\"\"\n",
    "    WITH\n",
    "    -- TODOS_VALORES une tb_vl_valores de estados e municípios\n",
    "    TODOS_VALORES AS (\n",
    "        SELECT\n",
    "            CO_MUNICIPIO AS CODIGO_IBGE,\n",
    "            * EXCLUDE (CO_MUNICIPIO)\n",
    "        FROM\n",
    "            RAW.SIOPS__TB_VL_VALORES\n",
    "        UNION ALL\n",
    "        SELECT\n",
    "            CO_UF AS CODIGO_IBGE,\n",
    "            * EXCLUDE (CO_UF)\n",
    "        FROM\n",
    "            RAW.SIOPSUF__TB_VL_VALORES\n",
    "    ) SELECT * FROM TODOS_VALORES\n",
    "                       \"\"\")\n",
    "todos_valores.df().head(5)"
   ]
  },
  {
   "cell_type": "markdown",
   "metadata": {},
   "source": [
    "### Removendo as contas não operacionais (agregadoras)"
   ]
  },
  {
   "cell_type": "markdown",
   "metadata": {},
   "source": [
    "A ideia do nosso dataset lancamentos é conter apenas dados inseridos pelos entes e remover dados derivados ainda que estejam salvos nos bancos"
   ]
  },
  {
   "cell_type": "code",
   "execution_count": null,
   "metadata": {},
   "outputs": [],
   "source": [
    "db.sql(\"\"\" \n",
    "            SELECT * FROM SIOPS.CONTAS\n",
    "        \"\"\")"
   ]
  },
  {
   "cell_type": "code",
   "execution_count": null,
   "metadata": {},
   "outputs": [],
   "source": [
    "operacionais = db.sql(\"\"\" \n",
    "       SELECT * FROM todos_valores WHERE CO_ITEM in \n",
    "        (\n",
    "            SELECT CODIGO_CONTA_SIOPS::TEXT FROM SIOPS.CONTAS WHERE TIPO_CONTA = 'operacional'\n",
    "        )\"\"\")\n",
    "operacionais"
   ]
  },
  {
   "cell_type": "markdown",
   "metadata": {},
   "source": [
    "### Filtrando apenas dados de Receitas e Despesas\n",
    "O banco do SIOPS é organizado de acordo como a interface gráfica funciona.  Portanto, precisamos dizer de que relatórios (PASTAS) e de que colunas (FASES entre outros conceitos) queremos valores.\n"
   ]
  },
  {
   "cell_type": "code",
   "execution_count": null,
   "metadata": {},
   "outputs": [],
   "source": [
    "db.sql(\"\"\"SELECT * FROM RAW.SIOPSUF__TB_PROJ_COLUNA\"\"\")"
   ]
  },
  {
   "cell_type": "code",
   "execution_count": null,
   "metadata": {},
   "outputs": [],
   "source": [
    "receitas_despesas = db.sql(\"\"\" SELECT * FROM operacionais \n",
    "            -- 3_1 3_2... 3_18, 4_1..4_18..., 95_1..95_18 são as pastas_hierarquias válidas\n",
    "            WHERE (REGEXP_MATCHES(co_pasta_hierarquia, '^(3|4|6|7|8|9|10|86|87|88|89|90|94|95)_([1-9]|1[0-8])$') OR CO_PASTA = 1) \n",
    "            AND CO_TIPO < 23 -- Remove fases que são Totais Gerais\n",
    "            AND CO_TIPO NOT IN (14, 20, 21) -- Remove Restos a Pagar e Totalizadoras de Receitas para base de cálculo ASPS\n",
    "            \"\"\")\n",
    "receitas_despesas"
   ]
  },
  {
   "cell_type": "markdown",
   "metadata": {},
   "source": [
    "### Filtrando dados homologados\n",
    "\n",
    "Como o banco está reescrevendo por cima de valores já inseridos, checamos se a última atualização (cujos dados estão no banco) foram homologados e não incluímos no dataset caso não estejam."
   ]
  },
  {
   "cell_type": "code",
   "execution_count": null,
   "metadata": {},
   "outputs": [],
   "source": [
    "homologados = db.sql(\"\"\"\n",
    "                     SELECT\n",
    "            P.PERIODO AS COMPETENCIA,\n",
    "            V.*\n",
    "        FROM\n",
    "            receitas_despesas V\n",
    "            JOIN STAGING.SIOPS__PERIODOS P ON P.ANO = V.NU_ANO\n",
    "            AND P.CODIGO_BIMESTRE_SIOPS = V.NU_PERIODO\n",
    "            JOIN STAGING.SIOPS__HOMOLOGADOS H ON H.PERIODO = P.PERIODO\n",
    "            AND H.IBGE_ENTE = V.CODIGO_IBGE\n",
    "                     \"\"\")\n",
    "homologados"
   ]
  },
  {
   "cell_type": "markdown",
   "metadata": {},
   "source": [
    "### Enriquecendo os dados\n"
   ]
  },
  {
   "cell_type": "code",
   "execution_count": null,
   "metadata": {},
   "outputs": [],
   "source": [
    "final = db.sql(\"\"\" \n",
    "                SELECT\n",
    "     H.COMPETENCIA as competencia, -- mudar para periodo?  exercicio?\n",
    "     H.CODIGO_IBGE as ibge,\n",
    "     S.ENTE as ente,\n",
    "     CASE WHEN S.CAPITAL = 1 THEN 'S' ELSE 'N' END AS capital,\n",
    "     S.REGIAO as regiao,\n",
    "     S.UF as uf,\n",
    "     CASE\n",
    "         WHEN S.ESFERA = 'D' THEN 'Distrital'\n",
    "         WHEN S.ESFERA = 'M' THEN 'Municipal'\n",
    "         WHEN S.ESFERA = 'E' THEN 'Estadual'\n",
    "         WHEN S.ESFERA = 'U' THEN 'Federal'\n",
    "     END AS esfera,\n",
    "     S.POPULACAO as populacao,\n",
    "     -- remove conteúdo entre parenteses e espaços em branco\n",
    "     TRIM(REGEXP_REPLACE(REGEXP_REPLACE(C.NO_COLUNA, '\\s*=.*$', ''), '\\s*\\([a-z]\\)', '')) AS fase,\n",
    "    -- C.NO_COLUNA as fase,\n",
    "     FS.FONTE as fonte,\n",
    "     FS.SUBFUNCAO AS destinacao,\n",
    "     CT.CODIGO_CONTA AS conta,\n",
    "     CT.DESCRICAO_CONTA AS descricao_conta,\n",
    "     H.NU_VALOR AS valor_nominal\n",
    " FROM\n",
    "     homologados H \n",
    "     JOIN SIOPS.CONTAS CT ON CT.CODIGO_CONTA_SIOPS = H.CO_ITEM\n",
    "     JOIN RAW.SIOPSUF__TB_PROJ_COLUNA C ON H.CO_TIPO = C.CO_SEQ_COLUNA\n",
    "     LEFT JOIN STAGING.SIOPS__FONTES_SUBFUNCOES FS ON FS.PASTA_HIERARQUIA = H.CO_PASTA_HIERARQUIA\n",
    "     JOIN SICONFI.ENTES S ON H.CODIGO_IBGE = S.codigo_ibge_6\n",
    " ORDER BY competencia, ibge, fase, conta, fonte, destinacao;\n",
    "               \"\"\")\n",
    "final"
   ]
  },
  {
   "cell_type": "code",
   "execution_count": null,
   "metadata": {},
   "outputs": [],
   "source": [
    "dataset = db.sql(\"SELECT * FROM siops.lancamentos\").df()\n",
    "dataset"
   ]
  },
  {
   "cell_type": "code",
   "execution_count": null,
   "metadata": {},
   "outputs": [],
   "source": [
    "!sqlmesh audit"
   ]
  },
  {
   "cell_type": "code",
   "execution_count": null,
   "metadata": {},
   "outputs": [],
   "source": []
  },
  {
   "cell_type": "code",
   "execution_count": null,
   "metadata": {},
   "outputs": [],
   "source": [
    "\n"
   ]
  },
  {
   "cell_type": "code",
   "execution_count": null,
   "metadata": {},
   "outputs": [],
   "source": []
  }
 ],
 "metadata": {
  "kernelspec": {
   "display_name": "desid-playground-ahKw7HtI-py3.11",
   "language": "python",
   "name": "python3"
  },
  "language_info": {
   "codemirror_mode": {
    "name": "ipython",
    "version": 3
   },
   "file_extension": ".py",
   "mimetype": "text/x-python",
   "name": "python",
   "nbconvert_exporter": "python",
   "pygments_lexer": "ipython3",
   "version": "3.11.6"
  }
 },
 "nbformat": 4,
 "nbformat_minor": 4
}
